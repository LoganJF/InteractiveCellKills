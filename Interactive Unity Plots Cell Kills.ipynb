{
 "cells": [
  {
   "cell_type": "markdown",
   "metadata": {},
   "source": [
    "# Purpose of this notebook:\n",
    "The purpose of this notebook is to plot an interactive aggregated data collected thus far from various Lingli cell kills."
   ]
  },
  {
   "cell_type": "markdown",
   "metadata": {},
   "source": [
    "# Load Required Packages"
   ]
  },
  {
   "cell_type": "code",
   "execution_count": 2,
   "metadata": {},
   "outputs": [],
   "source": [
    "%matplotlib inline\n",
    "import seaborn as sns; sns.set()\n",
    "import pandas as pd\n",
    "import numpy as np\n",
    "import matplotlib as mpl\n",
    "from matplotlib.lines import Line2D\n",
    "from matplotlib import pyplot as plt\n",
    "from collections import OrderedDict\n",
    "from IPython.display import display\n",
    "# Widget stuff\n",
    "import ipywidgets as widgets\n",
    "from ipywidgets import interact, interact_manual, fixed, interactive\n",
    "from copy import deepcopy\n",
    "from glob import glob"
   ]
  },
  {
   "cell_type": "markdown",
   "metadata": {},
   "source": [
    "# Define relevant functions"
   ]
  },
  {
   "cell_type": "code",
   "execution_count": 21,
   "metadata": {},
   "outputs": [],
   "source": [
    "def legend_without_duplicate_labels(ax, **kwargs):\n",
    "    \"\"\"Pass in an axis from matplotlib, will return a legend without duplicates\"\"\"\n",
    "    handles, labels = ax.get_legend_handles_labels()\n",
    "    unique = [(h, l) for i, (h, l) in enumerate(zip(handles, labels)) if l not in labels[:i]]\n",
    "    ax.legend(*zip(*unique), **kwargs)\n",
    "\n",
    "def get_match_with_pre_data(data, experiment_condition, control_condition='Pre', field_to_search='Condition', unique_field='date', neuron='all'):\n",
    "    \"\"\"Given a dataframe with multiple conditions, return that single condition and matched control\n",
    "    \"\"\"\n",
    "    # Make a copy so as to not modify entered data\n",
    "    df = deepcopy(data)\n",
    "    \n",
    "    # Return only the requested neuron if asked\n",
    "    if neuron != 'all':\n",
    "        try:\n",
    "            df = df[df.neuron==neuron]\n",
    "        except AttributeError:\n",
    "            df = df[df.Neuron==neuron]\n",
    "\n",
    "    matched_data = []\n",
    "    # Go through dataframe grouped by the relevant column, keep only relevant conditions\n",
    "    for _, _data in df.groupby(unique_field):\n",
    "        if control_condition not in _data[field_to_search].unique():\n",
    "            continue\n",
    "        if experiment_condition not in _data[field_to_search].unique():\n",
    "            continue \n",
    "        keep = (experiment_condition, control_condition)\n",
    "        matched_data.append(_data.loc[_data[field_to_search].isin(keep)])\n",
    "    \n",
    "    if len(matched_data) > 0:\n",
    "        return pd.concat(matched_data) \n",
    "    \n",
    "def split_match_data(matched_df):\n",
    "    plot_vals = ['Burst Duration (sec)', '# of Spikes', 'Spike Frequency (Hz)',\n",
    "                 'Instantaneous Period (sec)', 'Interburst Duration (s)', 'Duty Cycle']\n",
    "    # Functions to apply over each condition\n",
    "    funcs = [[np.median, np.mean, np.std]]*6\n",
    "    # Create a dictionary to aggregate the grouped data by\n",
    "    my_dict = dict(zip(plot_vals,funcs))\n",
    "    try:\n",
    "        agg_matched_df = matched_df.groupby(['Condition', 'date']).agg(my_dict).reset_index()\n",
    "    except AttributeError:\n",
    "        # If condition isn't in the dataframe\n",
    "        return (None, None)\n",
    "    pre_kill = agg_matched_df.loc[agg_matched_df['Condition']=='Pre']\n",
    "    post_kill = agg_matched_df.loc[agg_matched_df['Condition']!='Pre']\n",
    "    return pre_kill, post_kill"
   ]
  },
  {
   "cell_type": "markdown",
   "metadata": {},
   "source": [
    "# Load Data"
   ]
  },
  {
   "cell_type": "code",
   "execution_count": 10,
   "metadata": {},
   "outputs": [],
   "source": [
    "dataframe = pd.read_csv('lingli_aggkills_allneurons.csv')\n",
    "neuron_names = dataframe.Neuron.unique()#  ['LG', 'LP', 'PY', 'DG', 'VD']\n",
    "conditions =  ['2PD Kill', 'AB Kill', 'Dual Kill', '2LPG Kill']\n",
    "dates = dataframe.date.unique()\n",
    "y_values = ['Burst Duration (sec)', '# of Spikes', 'Spike Frequency (Hz)',\n",
    "            'Instantaneous Period (sec)', 'Interburst Duration (s)', 'Duty Cycle']\n",
    "markers = ['v', 'x', 'o', '*']\n",
    "markers_d = dict(zip(conditions, markers))\n",
    "cmap2=sns.diverging_palette(250, 125, l=60, n=len(conditions),sep=10, center=\"dark\")\n",
    "cmap_d = dict(zip(conditions, cmap2))\n",
    "sns.set_context('talk')"
   ]
  },
  {
   "cell_type": "code",
   "execution_count": 23,
   "metadata": {},
   "outputs": [
    {
     "data": {
      "application/vnd.jupyter.widget-view+json": {
       "model_id": "29a8c92f36134e96b39e4d7a4a8ba779",
       "version_major": 2,
       "version_minor": 0
      },
      "text/plain": [
       "interactive(children=(Dropdown(description='val', options=('Burst Duration (sec)', '# of Spikes', 'Spike Frequ…"
      ]
     },
     "metadata": {},
     "output_type": "display_data"
    }
   ],
   "source": [
    "@widgets.interact(\n",
    "    val=y_values,\n",
    "    \n",
    "    central_tendency = ['mean', 'median'],\n",
    "    \n",
    "    burst_num=(1, 150),\n",
    "    \n",
    "    neuron = neuron_names, \n",
    "    \n",
    "    Condition = widgets.SelectMultiple(\n",
    "        options=conditions,\n",
    "        value=list(conditions),\n",
    "        rows = len(conditions),\n",
    "        description='Condition',\n",
    "        disabled=False),\n",
    "    \n",
    "    dates=widgets.SelectMultiple(\n",
    "        options=dates,\n",
    "        value=tuple(dates),\n",
    "        rows=5,\n",
    "        description='Dates',\n",
    "        disabled=False\n",
    "        ))\n",
    "def unity_plot(val='Burst Duration (sec)', central_tendency=\"mean\",burst_num=10, \n",
    "                 neuron='LG', Condition=conditions, dates=dates):\n",
    "    fig, ax = plt.subplots(ncols=1, figsize=(16,8))    \n",
    "    if central_tendency.lower()=='mean':\n",
    "        estimator = 'mean'\n",
    "    elif central_tendency.lower()=='median':\n",
    "        estimator = 'median'\n",
    "   \n",
    "    global dataframe\n",
    "    global markers_d\n",
    "    global cmap2\n",
    "    df = dataframe.loc[(dataframe['date'].isin(dates)) & (dataframe['Burst#'] < burst_num)]\n",
    "    #-----> Plot PD Kills\n",
    "    for index, _condition in enumerate(Condition):\n",
    "        match = get_match_with_pre_data(df, control_condition='Pre', experiment_condition=_condition, neuron=neuron)\n",
    "        pre_kills, post_kills = split_match_data(match)\n",
    "        if pre_kills is not None:\n",
    "            pre_mean, exp_mean = pre_kills[val][estimator], post_kills[val][estimator] \n",
    "            ax.scatter(pre_mean, exp_mean, marker=markers_d[_condition], color=cmap_d[_condition], s=150, label=_condition)\n",
    "            # Add in experimental and control error bars\n",
    "            pre_std, exp_std = pre_kills[val]['std'], post_kills[val]['std'] \n",
    "            ax.errorbar(pre_mean, exp_mean, yerr=exp_std, capsize=10, capthick=3, zorder=1, color=cmap_d[_condition],label='', ls='none')\n",
    "            ax.errorbar(pre_mean, exp_mean, xerr=pre_std, capsize=10, capthick=3, zorder=1, color=cmap_d[_condition],label='', ls='none')\n",
    "    # Plot a unity line\n",
    "    xlims = ax.get_xlim()\n",
    "    x = np.linspace(*xlims)\n",
    "    ax.plot(x, x, ls='--', lw=3, color='k', zorder=0)\n",
    "    ax.set_xlim(xlims)\n",
    "    # Make it look pretty\n",
    "    ax.set_ylabel('{} (exp.)'.format(val), fontsize=20)\n",
    "    ax.set_xlabel('{} (control)'.format(val), fontsize=20)\n",
    "    \n",
    "    lgd = legend_without_duplicate_labels(ax, bbox_to_anchor=(1.05, 1.015), markerscale=.8)\n",
    "    title = '{} Data: Pacemaker Kill Experiments {}'\n",
    "    ax.set_title(title.format(neuron, estimator), fontsize=20)   \n",
    "    plt.show()"
   ]
  }
 ],
 "metadata": {
  "kernelspec": {
   "display_name": "crabby",
   "language": "python",
   "name": "crabby"
  },
  "language_info": {
   "codemirror_mode": {
    "name": "ipython",
    "version": 3
   },
   "file_extension": ".py",
   "mimetype": "text/x-python",
   "name": "python",
   "nbconvert_exporter": "python",
   "pygments_lexer": "ipython3",
   "version": "3.7.2"
  }
 },
 "nbformat": 4,
 "nbformat_minor": 2
}
